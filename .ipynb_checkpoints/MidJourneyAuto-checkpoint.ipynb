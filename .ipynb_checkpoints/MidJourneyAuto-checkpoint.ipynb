{
 "cells": [
  {
   "cell_type": "markdown",
   "id": "198d582c-19dd-4a33-bb60-0dce754b7614",
   "metadata": {},
   "source": [
    "# Mid Journey auto tool"
   ]
  },
  {
   "cell_type": "markdown",
   "id": "eed02aca-35ac-4792-9f50-3faa7a72bc48",
   "metadata": {},
   "source": [
    "Trước tiên để sử dụng, ta cần phải bật sẵn 2 con bot: \n",
    "\n",
    "* ```midjourney_download_bot```: Con bot này có tác dụng là sẽ tự động tải ảnh về folder ```output``` mỗi khi có ảnh được sinh ra trong box chat \n",
    "\n",
    "* ```midjourney_sending_bot```: Con bót này có tác dụng là sẽ tự động điền prompts vào khung chat của discord để sinh ra ảnh"
   ]
  },
  {
   "cell_type": "code",
   "execution_count": 13,
   "id": "800aa6a8-16d3-4a2e-b0d7-db4d2c9a3d42",
   "metadata": {
    "tags": []
   },
   "outputs": [
    {
     "name": "stderr",
     "output_type": "stream",
     "text": [
      "python: can't open file 'C:\\\\Users\\\\Thinkbook 14 G3 ACL\\\\Documents\\\\GitHub\\\\download_bot.py': [Errno 2] No such file or directory\n"
     ]
    }
   ],
   "source": [
    "!python download_bot.py"
   ]
  }
 ],
 "metadata": {
  "kernelspec": {
   "display_name": "Python 3 (ipykernel)",
   "language": "python",
   "name": "python3"
  },
  "language_info": {
   "codemirror_mode": {
    "name": "ipython",
    "version": 3
   },
   "file_extension": ".py",
   "mimetype": "text/x-python",
   "name": "python",
   "nbconvert_exporter": "python",
   "pygments_lexer": "ipython3",
   "version": "3.10.0"
  }
 },
 "nbformat": 4,
 "nbformat_minor": 5
}
