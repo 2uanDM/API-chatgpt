{
 "cells": [
  {
   "cell_type": "markdown",
   "id": "198d582c-19dd-4a33-bb60-0dce754b7614",
   "metadata": {},
   "source": [
    "# Mid Journey auto tool"
   ]
  },
  {
   "cell_type": "markdown",
   "id": "eed02aca-35ac-4792-9f50-3faa7a72bc48",
   "metadata": {},
   "source": [
    "Trước tiên để sử dụng, ta cần phải bật lần lượt 2 con bot: \n",
    "\n",
    "* ```midjourney_download_bot```: Con bot này có tác dụng là sẽ tự động tải ảnh về folder ```output``` mỗi khi có ảnh được sinh ra trong box chat \n",
    "\n",
    "* ```midjourney_sending_bot```: Con bot này có tác dụng là sẽ tự động điền prompts trong file ```prompts.txt``` vào khung chat của discord để sinh ra ảnh"
   ]
  },
  {
   "cell_type": "code",
   "execution_count": 4,
   "id": "800aa6a8-16d3-4a2e-b0d7-db4d2c9a3d42",
   "metadata": {
    "tags": []
   },
   "outputs": [
    {
     "name": "stdout",
     "output_type": "stream",
     "text": [
      "\n",
      "C:\\Users\\Thinkbook 14 G3 ACL\\Documents\\GitHub\\API-chatgpt>python download_bot.py \n"
     ]
    },
    {
     "name": "stderr",
     "output_type": "stream",
     "text": [
      "Traceback (most recent call last):\n",
      "  File \"C:\\Users\\Thinkbook 14 G3 ACL\\Documents\\GitHub\\API-chatgpt\\download_bot.py\", line 1, in <module>\n",
      "    import discord\n",
      "ModuleNotFoundError: No module named 'discord'\n"
     ]
    }
   ],
   "source": [
    "!BotDownload.bat"
   ]
  },
  {
   "cell_type": "code",
   "execution_count": 6,
   "id": "faa8dc31-85e0-413d-a46e-a6b51b26dc6e",
   "metadata": {
    "tags": []
   },
   "outputs": [
    {
     "name": "stderr",
     "output_type": "stream",
     "text": [
      "usage: conda create [-h] [--clone ENV] (-n ENVIRONMENT | -p PATH) [-c CHANNEL]\n",
      "                    [--use-local] [--override-channels]\n",
      "                    [--repodata-fn REPODATA_FNS] [--strict-channel-priority]\n",
      "                    [--no-channel-priority] [--no-deps | --only-deps]\n",
      "                    [--no-pin] [--copy] [--no-shortcuts] [-C] [-k] [--offline]\n",
      "                    [-d] [--json] [-q] [-v] [-y] [--download-only]\n",
      "                    [--show-channel-urls] [--file FILE]\n",
      "                    [--no-default-packages]\n",
      "                    [--solver {classic} | --experimental-solver {classic}]\n",
      "                    [--dev]\n",
      "                    [package_spec ...]\n",
      "conda create: error: one of the arguments -n/--name -p/--prefix is required\n"
     ]
    }
   ],
   "source": []
  }
 ],
 "metadata": {
  "kernelspec": {
   "display_name": "Python 3 (ipykernel)",
   "language": "python",
   "name": "python3"
  },
  "language_info": {
   "codemirror_mode": {
    "name": "ipython",
    "version": 3
   },
   "file_extension": ".py",
   "mimetype": "text/x-python",
   "name": "python",
   "nbconvert_exporter": "python",
   "pygments_lexer": "ipython3",
   "version": "3.10.0"
  }
 },
 "nbformat": 4,
 "nbformat_minor": 5
}
